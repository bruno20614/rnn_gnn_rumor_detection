{
 "cells": [
  {
   "cell_type": "code",
   "execution_count": null,
   "id": "9aa4c90f",
   "metadata": {},
   "outputs": [],
   "source": [
    "import os\n",
    "import json\n",
    "import pandas as pd\n",
    "import networkx as nx\n",
    "from datetime import datetime\n",
    "import torch\n",
    "import torch.nn as nn\n",
    "import torch.nn.functional as F\n",
    "from torch.utils.data import Dataset, DataLoader, random_split\n",
    "from transformers import BertTokenizer, BertModel\n",
    "from torch_geometric.data import Data, Batch\n",
    "from torch_geometric.nn import GATConv, global_mean_pool\n",
    "from sklearn.metrics import accuracy_score, f1_score, precision_score, recall_score\n",
    "from tqdm import tqdm"
   ]
  },
  {
   "cell_type": "code",
   "execution_count": null,
   "id": "f4a87d50",
   "metadata": {},
   "outputs": [],
   "source": [
    "df = pd.read(\"\")\n",
    "def load_tweet_content(tweet_dir):\n",
    "    \"\"\"\n",
    "    Carrega o conteúdo de um tweet (JSON) de um diretório específico.\n",
    "    \"\"\"\n",
    "    tweet_file = os.path.join(tweet_dir, os.listdir(tweet_dir)[0]) # Assume um único arquivo JSON no diretório\n",
    "    with open(tweet_file, 'r') as f:\n",
    "        tweet_data = json.load(f)\n",
    "    return tweet_data"
   ]
  },
  {
   "cell_type": "code",
   "execution_count": null,
   "id": "c29d7ed1",
   "metadata": {},
   "outputs": [],
   "source": [
    "load"
   ]
  }
 ],
 "metadata": {
  "kernelspec": {
   "display_name": "venv",
   "language": "python",
   "name": "python3"
  },
  "language_info": {
   "codemirror_mode": {
    "name": "ipython",
    "version": 3
   },
   "file_extension": ".py",
   "mimetype": "text/x-python",
   "name": "python",
   "nbconvert_exporter": "python",
   "pygments_lexer": "ipython3",
   "version": "3.11.9"
  }
 },
 "nbformat": 4,
 "nbformat_minor": 5
}
